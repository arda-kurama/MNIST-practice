{
 "cells": [
  {
   "cell_type": "code",
   "execution_count": 23,
   "metadata": {},
   "outputs": [],
   "source": [
    "from keras.datasets import mnist\n",
    "import numpy as np\n",
    "import tensorflow as tf\n",
    "from tensorflow.keras.utils import to_categorical\n",
    "from keras.models import Sequential \n",
    "from keras.layers import Dense, Dropout\n",
    "import random\n",
    "import matplotlib.pyplot as plt\n",
    "\n",
    "rows = 28 # number of pixels in a row\n",
    "cols = 28 # number of pixels in a column\n",
    "labels = 10 # number of possible options (0-9)\n",
    "\n",
    "def data_summary(trainX, trainY, testX, testY): # data summary function\n",
    "  print('\\nTrain images shape:', trainX.shape)\n",
    "  print('Train labels shape:', trainY.shape)\n",
    "  print('Test images shape:', testX.shape)\n",
    "  print('Test labels shape:', testY.shape)\n",
    "  print('\\nTrain labels:\\n', trainY)\n",
    "  print('\\nTest labels:\\n', testY)"
   ]
  },
  {
   "cell_type": "code",
   "execution_count": 24,
   "metadata": {},
   "outputs": [
    {
     "name": "stdout",
     "output_type": "stream",
     "text": [
      "\n",
      "Train images shape: (60000, 28, 28)\n",
      "Train labels shape: (60000,)\n",
      "Test images shape: (10000, 28, 28)\n",
      "Test labels shape: (10000,)\n",
      "\n",
      "Train labels:\n",
      " [5 0 4 ... 5 6 8]\n",
      "\n",
      "Test labels:\n",
      " [7 2 1 ... 4 5 6]\n"
     ]
    }
   ],
   "source": [
    "(trainX, trainY), (testX, testY) = mnist.load_data()\n",
    "  #trainX contains a 28x28 array representing the images\n",
    "  #trainY contains the labels of the dataset as an integer vector\n",
    "\n",
    "data_summary(trainX, trainY, testX, testY)"
   ]
  },
  {
   "cell_type": "code",
   "execution_count": 25,
   "metadata": {},
   "outputs": [
    {
     "name": "stdout",
     "output_type": "stream",
     "text": [
      "\n",
      "Train images shape: (60000, 784)\n",
      "Train labels shape: (60000, 10)\n",
      "Test images shape: (10000, 784)\n",
      "Test labels shape: (10000, 10)\n",
      "\n",
      "Train labels:\n",
      " [[0. 0. 0. ... 0. 0. 0.]\n",
      " [1. 0. 0. ... 0. 0. 0.]\n",
      " [0. 0. 0. ... 0. 0. 0.]\n",
      " ...\n",
      " [0. 0. 0. ... 0. 0. 0.]\n",
      " [0. 0. 0. ... 0. 0. 0.]\n",
      " [0. 0. 0. ... 0. 1. 0.]]\n",
      "\n",
      "Test labels:\n",
      " [[0. 0. 0. ... 1. 0. 0.]\n",
      " [0. 0. 1. ... 0. 0. 0.]\n",
      " [0. 1. 0. ... 0. 0. 0.]\n",
      " ...\n",
      " [0. 0. 0. ... 0. 0. 0.]\n",
      " [0. 0. 0. ... 0. 0. 0.]\n",
      " [0. 0. 0. ... 0. 0. 0.]]\n"
     ]
    }
   ],
   "source": [
    "trainX = trainX.reshape((trainX.shape[0], rows * cols))\n",
    "  # reshapes trainX from a list of 2D arrays into a list of 1D arrays\n",
    "  # trainX.shape[0] represents the 60000 entires\n",
    "  # rows * columns turns the 28x28 2D array into a 784 1D array\n",
    "trainX = trainX.astype('float32') / 255\n",
    "  # casts trainX to the 'float32' data type\n",
    "  # divides every value by 255 to normalize the data to [0, 1]\n",
    "testX = testX.reshape((testX.shape[0], rows * cols))\n",
    "testX = testX.astype('float32') / 255\n",
    "\n",
    "trainY = to_categorical(trainY, labels)\n",
    "  # converts the integer vector into one-hot vectors\n",
    "  # [3] --> [0, 0, 1] \n",
    "testY = to_categorical(testY, labels)\n",
    "\n",
    "data_summary(trainX, trainY, testX, testY)"
   ]
  },
  {
   "cell_type": "code",
   "execution_count": 26,
   "metadata": {},
   "outputs": [],
   "source": [
    "model = Sequential() # linear stack of Keras layers\n",
    "model.add(Dense(16, input_dim = (rows * cols), activation = 'relu')) # dense layer with 16 neurons, ReLU activation, and 784 input parameters\n",
    "model.add(Dense(32, activation = 'relu')) # dense layer with 32 neurons and ReLU activation\n",
    "model.add(Dense(10, activation = 'softmax')) # dense layer with 10 neurons and softmax activation for multi-class classification"
   ]
  },
  {
   "cell_type": "code",
   "execution_count": 27,
   "metadata": {},
   "outputs": [
    {
     "name": "stdout",
     "output_type": "stream",
     "text": [
      "Epoch 1/5\n",
      "938/938 [==============================] - 3s 2ms/step - loss: 0.4643 - accuracy: 0.8718\n",
      "Epoch 2/5\n",
      "938/938 [==============================] - 2s 2ms/step - loss: 0.2418 - accuracy: 0.9302\n",
      "Epoch 3/5\n",
      "938/938 [==============================] - 2s 3ms/step - loss: 0.2077 - accuracy: 0.9407\n",
      "Epoch 4/5\n",
      "938/938 [==============================] - 2s 2ms/step - loss: 0.1876 - accuracy: 0.9460\n",
      "Epoch 5/5\n",
      "938/938 [==============================] - 3s 3ms/step - loss: 0.1729 - accuracy: 0.9499\n"
     ]
    },
    {
     "data": {
      "text/plain": [
       "<keras.callbacks.History at 0x1c6035aa080>"
      ]
     },
     "execution_count": 27,
     "metadata": {},
     "output_type": "execute_result"
    }
   ],
   "source": [
    "model.compile(optimizer = 'rmsprop', loss = 'categorical_crossentropy', metrics = ['accuracy']) \n",
    "  # configues the model before training\n",
    "  # rmsprop optimization\n",
    "  # multi-class classification loss function\n",
    "\n",
    "model.fit(trainX, trainY, epochs = 5, batch_size = 64)\n",
    "  # trains the model with the trainX images and trainY labels\n",
    "  # trains the model 5 times on the dataset\n",
    "  # 64 samples per gradient update"
   ]
  },
  {
   "cell_type": "code",
   "execution_count": 28,
   "metadata": {},
   "outputs": [
    {
     "name": "stdout",
     "output_type": "stream",
     "text": [
      "1875/1875 [==============================] - 5s 3ms/step - loss: 0.1648 - accuracy: 0.9527\n",
      "Accuracy: 95.27\n"
     ]
    }
   ],
   "source": [
    "_, accuracy = model.evaluate(trainX, trainY)\n",
    "  # evaluates performance of the model with the trainX images and trainY labels\n",
    "  # _, to ignore loss value\n",
    "  \n",
    "print('Accuracy: %.2f' % (accuracy * 100)) #prints accuracy as a percentage"
   ]
  },
  {
   "cell_type": "code",
   "execution_count": 29,
   "metadata": {},
   "outputs": [
    {
     "name": "stdout",
     "output_type": "stream",
     "text": [
      "\n",
      "TEST DATASET RESULTS:\n",
      "313/313 [==============================] - 1s 3ms/step\n",
      "Example: 9205\n"
     ]
    },
    {
     "data": {
      "image/png": "[encoded data removed]",
      "text/plain": [
       "<Figure size 200x200 with 1 Axes>"
      ]
     },
     "metadata": {},
     "output_type": "display_data"
    },
    {
     "name": "stdout",
     "output_type": "stream",
     "text": [
      "=> 8 (expected 8)\n",
      "\n",
      "Example: 1917\n"
     ]
    },
    {
     "data": {
      "image/png": "[encoded data removed]",
      "text/plain": [
       "<Figure size 200x200 with 1 Axes>"
      ]
     },
     "metadata": {},
     "output_type": "display_data"
    },
    {
     "name": "stdout",
     "output_type": "stream",
     "text": [
      "=> 8 (expected 5)\n",
      "\n",
      "Example: 1787\n"
     ]
    },
    {
     "data": {
      "image/png": "[encoded data removed]",
      "text/plain": [
       "<Figure size 200x200 with 1 Axes>"
      ]
     },
     "metadata": {},
     "output_type": "display_data"
    },
    {
     "name": "stdout",
     "output_type": "stream",
     "text": [
      "=> 9 (expected 9)\n",
      "\n",
      "Example: 5470\n"
     ]
    },
    {
     "data": {
      "image/png": "[encoded data removed]",
      "text/plain": [
       "<Figure size 200x200 with 1 Axes>"
      ]
     },
     "metadata": {},
     "output_type": "display_data"
    },
    {
     "name": "stdout",
     "output_type": "stream",
     "text": [
      "=> 0 (expected 0)\n",
      "\n",
      "Example: 9598\n"
     ]
    },
    {
     "data": {
      "image/png": "[encoded data removed]",
      "text/plain": [
       "<Figure size 200x200 with 1 Axes>"
      ]
     },
     "metadata": {},
     "output_type": "display_data"
    },
    {
     "name": "stdout",
     "output_type": "stream",
     "text": [
      "=> 6 (expected 6)\n",
      "\n",
      "Example: 697\n"
     ]
    },
    {
     "data": {
      "image/png": "[encoded data removed]",
      "text/plain": [
       "<Figure size 200x200 with 1 Axes>"
      ]
     },
     "metadata": {},
     "output_type": "display_data"
    },
    {
     "name": "stdout",
     "output_type": "stream",
     "text": [
      "=> 4 (expected 4)\n",
      "\n",
      "Example: 3197\n"
     ]
    },
    {
     "data": {
      "image/png": "[encoded data removed]",
      "text/plain": [
       "<Figure size 200x200 with 1 Axes>"
      ]
     },
     "metadata": {},
     "output_type": "display_data"
    },
    {
     "name": "stdout",
     "output_type": "stream",
     "text": [
      "=> 8 (expected 8)\n",
      "\n",
      "Example: 6997\n"
     ]
    },
    {
     "data": {
      "image/png": "[encoded data removed]",
      "text/plain": [
       "<Figure size 200x200 with 1 Axes>"
      ]
     },
     "metadata": {},
     "output_type": "display_data"
    },
    {
     "name": "stdout",
     "output_type": "stream",
     "text": [
      "=> 4 (expected 4)\n",
      "\n",
      "Example: 7747\n"
     ]
    },
    {
     "data": {
      "image/png": "[encoded data removed]",
      "text/plain": [
       "<Figure size 200x200 with 1 Axes>"
      ]
     },
     "metadata": {},
     "output_type": "display_data"
    },
    {
     "name": "stdout",
     "output_type": "stream",
     "text": [
      "=> 0 (expected 0)\n",
      "\n",
      "Example: 5767\n"
     ]
    },
    {
     "data": {
      "image/png": "[encoded data removed]",
      "text/plain": [
       "<Figure size 200x200 with 1 Axes>"
      ]
     },
     "metadata": {},
     "output_type": "display_data"
    },
    {
     "name": "stdout",
     "output_type": "stream",
     "text": [
      "=> 2 (expected 2)\n",
      "\n"
     ]
    }
   ],
   "source": [
    "print('\\nTEST DATASET RESULTS:')\n",
    "predictions = (model.predict(testX) > 0.5).astype(int)\n",
    "  # makes predictions on the testX images\n",
    "  # threshold at 0.5 to produce binary predictions\n",
    "\n",
    "plt.rcParams['figure.figsize'] = (2, 2)\n",
    "  # sets myplotlib image size\n",
    "\n",
    "for i in range(10):\n",
    "  rNUM = random.randrange(0, len(testX)) # loops 10 random testX images\n",
    "  plt.imshow(testX[rNUM].reshape(28, 28), cmap='gray', interpolation='none') # reshapes testX image into a 28x28 2D array and plots it with myplotlib\n",
    "  print('Example:', rNUM) # prints example number\n",
    "  plt.show() # plots example\n",
    "  print('=> %d (expected %d)\\n' % (np.argmax(predictions[rNUM]), np.argmax(testY[rNUM])))\n",
    "    # prints the models prediction and the correct lable for the current example\n",
    "    # prediction is obtained by taking the argmax of the predictions array for the current example\n",
    "    # label is obtained by taking the argmax of the one-hot label array for the current example\n",
    "    # %d are integer placeholders\n",
    "    # argmax returns the index of the maximum value in an array"
   ]
  }
 ],
 "metadata": {
  "kernelspec": {
   "display_name": "myenv",
   "language": "python",
   "name": "python3"
  },
  "language_info": {
   "codemirror_mode": {
    "name": "ipython",
    "version": 3
   },
   "file_extension": ".py",
   "mimetype": "text/x-python",
   "name": "python",
   "nbconvert_exporter": "python",
   "pygments_lexer": "ipython3",
   "version": "3.10.9"
  },
  "orig_nbformat": 4,
  "vscode": {
   "interpreter": {
    "hash": "42070ccebd050dd4d1cb35037ea83bf3c6eb53c86d310a3ec96d972fb0f86c4a"
   }
  }
 },
 "nbformat": 4,
 "nbformat_minor": 2
}
